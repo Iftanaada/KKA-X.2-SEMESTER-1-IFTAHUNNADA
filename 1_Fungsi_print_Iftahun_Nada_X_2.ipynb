{
  "nbformat": 4,
  "nbformat_minor": 0,
  "metadata": {
    "colab": {
      "provenance": [],
      "authorship_tag": "ABX9TyPsXJamtkU9RO4O3SKv5gVA",
      "include_colab_link": true
    },
    "kernelspec": {
      "name": "python3",
      "display_name": "Python 3"
    },
    "language_info": {
      "name": "python"
    }
  },
  "cells": [
    {
      "cell_type": "markdown",
      "metadata": {
        "id": "view-in-github",
        "colab_type": "text"
      },
      "source": [
        "<a href=\"https://colab.research.google.com/github/Iftanaada/KKA-X.2-SEMESTER-1-IFTAHUNNADA/blob/main/1_Fungsi_print_Iftahun_Nada_X_2.ipynb\" target=\"_parent\"><img src=\"https://colab.research.google.com/assets/colab-badge.svg\" alt=\"Open In Colab\"/></a>"
      ]
    },
    {
      "cell_type": "markdown",
      "source": [
        "Nama: Iftahun Nada\n",
        "\n",
        "Kelas: X.2\n",
        "\n",
        "No absen: 13"
      ],
      "metadata": {
        "id": "1gnwpm9Htrbo"
      }
    },
    {
      "cell_type": "markdown",
      "source": [
        "#Menampilkan Teks Bebas"
      ],
      "metadata": {
        "id": "SLjc_g3puns9"
      }
    },
    {
      "cell_type": "code",
      "execution_count": null,
      "metadata": {
        "colab": {
          "base_uri": "https://localhost:8080/"
        },
        "id": "AWYQiSsZtDCd",
        "outputId": "78cb1550-fa47-4e19-cd58-4d2933ea873f"
      },
      "outputs": [
        {
          "output_type": "stream",
          "name": "stdout",
          "text": [
            "halo word!\n"
          ]
        }
      ],
      "source": [
        "print(\"halo word!\")"
      ]
    },
    {
      "cell_type": "code",
      "source": [
        "print(\"Iftahun Nada\")"
      ],
      "metadata": {
        "colab": {
          "base_uri": "https://localhost:8080/"
        },
        "id": "fCPX6APBwb-n",
        "outputId": "dc3fd934-2f29-4228-b600-b9844364366a"
      },
      "execution_count": null,
      "outputs": [
        {
          "output_type": "stream",
          "name": "stdout",
          "text": [
            "Iftahun Nada\n"
          ]
        }
      ]
    },
    {
      "cell_type": "markdown",
      "source": [
        "#Menampilkan Nilai Variabel"
      ],
      "metadata": {
        "id": "3N0IrJ5Bw1CR"
      }
    },
    {
      "cell_type": "code",
      "source": [
        "berat_badan = 40\n",
        "\n",
        "print(berat_badan)"
      ],
      "metadata": {
        "colab": {
          "base_uri": "https://localhost:8080/"
        },
        "id": "ffSm0zEtxEk6",
        "outputId": "79108e25-7d3c-4d92-d4bb-a0bfe8711a00"
      },
      "execution_count": null,
      "outputs": [
        {
          "output_type": "stream",
          "name": "stdout",
          "text": [
            "40\n"
          ]
        }
      ]
    },
    {
      "cell_type": "code",
      "source": [
        "nama = \"Iftahun Nada\"\n",
        "\n",
        "print(nama)"
      ],
      "metadata": {
        "colab": {
          "base_uri": "https://localhost:8080/"
        },
        "id": "QTpY7azpxwHk",
        "outputId": "3e29af60-2126-4f9d-9b03-d5d4bd675f2e"
      },
      "execution_count": null,
      "outputs": [
        {
          "output_type": "stream",
          "name": "stdout",
          "text": [
            "Iftahun Nada\n"
          ]
        }
      ]
    },
    {
      "cell_type": "code",
      "source": [
        "usia = 15\n",
        "print(usia)"
      ],
      "metadata": {
        "colab": {
          "base_uri": "https://localhost:8080/"
        },
        "id": "2-DB29ToyMIl",
        "outputId": "0aa269ff-4b85-4aba-8ba3-e3971e2d56d0"
      },
      "execution_count": null,
      "outputs": [
        {
          "output_type": "stream",
          "name": "stdout",
          "text": [
            "15\n"
          ]
        }
      ]
    },
    {
      "cell_type": "markdown",
      "source": [
        "#Menampilkan Teks Bebas dan Nilai Variabel"
      ],
      "metadata": {
        "id": "mGQ6Ol2AyrJl"
      }
    },
    {
      "cell_type": "code",
      "source": [
        "print(\"berat badan saya adalah \", berat_badan,\"Kg.\")"
      ],
      "metadata": {
        "colab": {
          "base_uri": "https://localhost:8080/"
        },
        "id": "dbP44kJRzC7e",
        "outputId": "9e2b38b2-2490-4a78-a7bb-81192ab49292"
      },
      "execution_count": null,
      "outputs": [
        {
          "output_type": "stream",
          "name": "stdout",
          "text": [
            "berat badan saya adalah  40 Kg.\n"
          ]
        }
      ]
    },
    {
      "cell_type": "code",
      "source": [
        "print(\"perkenalkan nama saya,\", nama,\".\")"
      ],
      "metadata": {
        "colab": {
          "base_uri": "https://localhost:8080/"
        },
        "id": "0yn9UVLZzrjw",
        "outputId": "b6929e26-f891-487c-ff2b-3bfdd61b1d3a"
      },
      "execution_count": null,
      "outputs": [
        {
          "output_type": "stream",
          "name": "stdout",
          "text": [
            "perkenalkan nama saya, Iftahun Nada .\n"
          ]
        }
      ]
    },
    {
      "cell_type": "code",
      "source": [
        "print(\"perkenalkan nama saya, \" + nama+ \".\")"
      ],
      "metadata": {
        "colab": {
          "base_uri": "https://localhost:8080/"
        },
        "id": "T1KyjtEE0obN",
        "outputId": "90df6420-0362-4dd5-8a3a-024fee96f998"
      },
      "execution_count": null,
      "outputs": [
        {
          "output_type": "stream",
          "name": "stdout",
          "text": [
            "perkenalkan nama saya, Iftahun Nada.\n"
          ]
        }
      ]
    },
    {
      "cell_type": "code",
      "source": [
        "print(\"berat badan saya adalah \"  + str(berat_badan) + \" Kg.\")"
      ],
      "metadata": {
        "colab": {
          "base_uri": "https://localhost:8080/"
        },
        "id": "0G8Dz18n1yRE",
        "outputId": "79072b1c-dfc0-48b0-8852-824197854518"
      },
      "execution_count": null,
      "outputs": [
        {
          "output_type": "stream",
          "name": "stdout",
          "text": [
            "berat badan saya adalah 40 Kg.\n"
          ]
        }
      ]
    },
    {
      "cell_type": "code",
      "source": [
        "print(f\"perkenalkan nama saya {nama}.\")"
      ],
      "metadata": {
        "colab": {
          "base_uri": "https://localhost:8080/"
        },
        "id": "yXg2kg8S2-wC",
        "outputId": "23f1e077-57fe-44c7-ca9c-b7191a3af607"
      },
      "execution_count": null,
      "outputs": [
        {
          "output_type": "stream",
          "name": "stdout",
          "text": [
            "perkenalkan nama saya Iftahun Nada.\n"
          ]
        }
      ]
    },
    {
      "cell_type": "code",
      "source": [
        "print(f\"berat badan saya adalah {berat_badan}Kg.\")"
      ],
      "metadata": {
        "colab": {
          "base_uri": "https://localhost:8080/"
        },
        "id": "uZbyb4Ay3O1d",
        "outputId": "56a1e41f-e646-4068-a178-b12364fd8d02"
      },
      "execution_count": null,
      "outputs": [
        {
          "output_type": "stream",
          "name": "stdout",
          "text": [
            "berat badan saya adalah 40Kg.\n"
          ]
        }
      ]
    },
    {
      "cell_type": "markdown",
      "source": [
        "#Escape Character"
      ],
      "metadata": {
        "id": "xgcUHT3_LaFG"
      }
    },
    {
      "cell_type": "code",
      "source": [
        "print (\"Nama : Iftahun Nada\\nKelas : X.2\\nNo.Absen : 13\")"
      ],
      "metadata": {
        "colab": {
          "base_uri": "https://localhost:8080/"
        },
        "id": "gnOrbZtwMA7S",
        "outputId": "5df75377-fb6b-4edb-88f0-8e1fff5148bf"
      },
      "execution_count": null,
      "outputs": [
        {
          "output_type": "stream",
          "name": "stdout",
          "text": [
            "Nama : Iftahun Nada\n",
            "Kelas : X.2\n",
            "No.Absen : 13\n"
          ]
        }
      ]
    },
    {
      "cell_type": "code",
      "source": [
        "print(\"Nama : Iftahun Nada\")\n",
        "print(\"Kelas : X.2\")\n",
        "print(\"No.Absen : 13\")"
      ],
      "metadata": {
        "colab": {
          "base_uri": "https://localhost:8080/"
        },
        "id": "uPoOrHRrN9jp",
        "outputId": "d4293c09-a505-43c1-fb79-6ea204e7167c"
      },
      "execution_count": null,
      "outputs": [
        {
          "output_type": "stream",
          "name": "stdout",
          "text": [
            "Nama : Iftahun Nada\n",
            "Kelas : X.2\n",
            "No.Absen : 13\n"
          ]
        }
      ]
    },
    {
      "cell_type": "code",
      "source": [
        "print(\"\"\"Nama : Iftahun Nada\n",
        "Kelas : X.2\n",
        "No. Absen : 13\"\"\")"
      ],
      "metadata": {
        "colab": {
          "base_uri": "https://localhost:8080/"
        },
        "id": "XB7ixxAjQrii",
        "outputId": "75563f6e-5caa-4221-ca99-059419c4e61c"
      },
      "execution_count": null,
      "outputs": [
        {
          "output_type": "stream",
          "name": "stdout",
          "text": [
            "Nama : Iftahun Nada\n",
            "Kelas : X.2\n",
            "No. Absen : 13\n"
          ]
        }
      ]
    },
    {
      "cell_type": "code",
      "source": [
        "print(\"Nama\\t\\t : Iftahun Nada\\nKelas\\t\\t : X.2\\nNo.Absen\\t : 13\")"
      ],
      "metadata": {
        "colab": {
          "base_uri": "https://localhost:8080/"
        },
        "id": "XNLtpkuSRxxm",
        "outputId": "3bfac325-6cc6-4fca-ed00-71c9761db193"
      },
      "execution_count": null,
      "outputs": [
        {
          "output_type": "stream",
          "name": "stdout",
          "text": [
            "Nama\t\t : Iftahun Nada\n",
            "Kelas\t\t : X.2\n",
            "No.Absen\t : 13\n"
          ]
        }
      ]
    },
    {
      "cell_type": "code",
      "source": [
        "print(\"Jadwal Pelajaran Mingguan\")"
      ],
      "metadata": {
        "colab": {
          "base_uri": "https://localhost:8080/"
        },
        "id": "T2V1XPGQgbkb",
        "outputId": "5c841430-57c7-4108-d18b-279b9f2784c5"
      },
      "execution_count": null,
      "outputs": [
        {
          "output_type": "stream",
          "name": "stdout",
          "text": [
            "Jadwal Pelajaran Mingguan\n"
          ]
        }
      ]
    },
    {
      "cell_type": "code",
      "source": [
        "print(\"================================\")"
      ],
      "metadata": {
        "colab": {
          "base_uri": "https://localhost:8080/"
        },
        "id": "G9YCPYCEggZK",
        "outputId": "d34bf269-fe8a-45cc-b05d-9e947d268c45"
      },
      "execution_count": null,
      "outputs": [
        {
          "output_type": "stream",
          "name": "stdout",
          "text": [
            "================================\n"
          ]
        }
      ]
    },
    {
      "cell_type": "code",
      "source": [
        "print(\"Jam\\tSenin\\t\\tSelasa\\t\\tRabu\")"
      ],
      "metadata": {
        "colab": {
          "base_uri": "https://localhost:8080/"
        },
        "id": "k6cLrO5phEEG",
        "outputId": "912b55d6-5d6e-451e-8e10-ad5b12348e3c"
      },
      "execution_count": null,
      "outputs": [
        {
          "output_type": "stream",
          "name": "stdout",
          "text": [
            "Jam\tSenin\t\tSelasa\t\tRabu\n"
          ]
        }
      ]
    },
    {
      "cell_type": "code",
      "source": [
        "print(\"Jam 1\\tMatematika\\tBahasa\\t\\tInformatika\")"
      ],
      "metadata": {
        "colab": {
          "base_uri": "https://localhost:8080/"
        },
        "id": "zUowEDa3hmmC",
        "outputId": "6fc17d8f-1a17-478b-e5f2-2434ff20a5a2"
      },
      "execution_count": null,
      "outputs": [
        {
          "output_type": "stream",
          "name": "stdout",
          "text": [
            "Jam 1\tMatematika\tBahasa\t\tInformatika\n"
          ]
        }
      ]
    },
    {
      "cell_type": "code",
      "source": [
        "print(\"Jam 2\\tBahasa Ingg.\\tSejarah\\t\\tMa\\'rifatullah\")"
      ],
      "metadata": {
        "colab": {
          "base_uri": "https://localhost:8080/"
        },
        "id": "NaCFPhLBiBII",
        "outputId": "d6c8e59e-24ac-4e1e-f670-a39e4f54ba97"
      },
      "execution_count": null,
      "outputs": [
        {
          "output_type": "stream",
          "name": "stdout",
          "text": [
            "Jam 2\tBahasa Ingg.\tSejarah\t\tMa'rifatullah\n"
          ]
        }
      ]
    },
    {
      "cell_type": "code",
      "source": [
        "print(\"Jam 3\\tInformatika\\tOlahraga\\tBiologi\")"
      ],
      "metadata": {
        "colab": {
          "base_uri": "https://localhost:8080/"
        },
        "id": "XY38Cn92iysx",
        "outputId": "c75142bb-030c-4c8b-8188-e2b59f618eea"
      },
      "execution_count": null,
      "outputs": [
        {
          "output_type": "stream",
          "name": "stdout",
          "text": [
            "Jam 3\tInformatika\tOlahraga\tBiologi\n"
          ]
        }
      ]
    },
    {
      "cell_type": "code",
      "source": [
        "print(\"Jadwal Pelajaran Mingguan\")\n",
        "print(\"===================================================\")\n",
        "print(\"Jam\\tSenin\\t\\tSelasa\\t\\tRabu\")\n",
        "print(\"Jam 1\\tMatematika\\tBahasa\\t\\tInformatika\")\n",
        "print(\"Jam 2\\tBahasa Ingg.\\tSejarah\\t\\tMa\\'rifatullah\")\n",
        "print(\"Jam 3\\tInformatika\\tOlahraga\\tBiologi\")"
      ],
      "metadata": {
        "colab": {
          "base_uri": "https://localhost:8080/"
        },
        "id": "7uU25QB5jEDK",
        "outputId": "706476b6-8331-44d2-e714-c4d9b8550d19"
      },
      "execution_count": null,
      "outputs": [
        {
          "output_type": "stream",
          "name": "stdout",
          "text": [
            "Jadwal Pelajaran Mingguan\n",
            "===================================================\n",
            "Jam\tSenin\t\tSelasa\t\tRabu\n",
            "Jam 1\tMatematika\tBahasa\t\tInformatika\n",
            "Jam 2\tBahasa Ingg.\tSejarah\t\tMa'rifatullah\n",
            "Jam 3\tInformatika\tOlahraga\tBiologi\n"
          ]
        }
      ]
    },
    {
      "cell_type": "code",
      "source": [
        "print ('Bu Shinta berkata, \"Berikut adalah daftar piket harian kelas X.2 yang disimpan di file D:\\\\MAN Demak\\\\Jadwal Piket\"\\n\\nSenin\\tSelasa\\tRabu\\nJielo\\tHasbi\\tNaufal\\nAzam\\tAida\\tNurul')"
      ],
      "metadata": {
        "colab": {
          "base_uri": "https://localhost:8080/"
        },
        "id": "DOd6sMjs8Fnp",
        "outputId": "e910d0e5-71b4-4427-b49c-4f85e6c3a471"
      },
      "execution_count": null,
      "outputs": [
        {
          "output_type": "stream",
          "name": "stdout",
          "text": [
            "Bu Shinta berkata, \"Berikut adalah daftar piket harian kelas X.2 yang disimpan di file D:\\MAN Demak\\Jadwal Piket\"\n",
            "\n",
            "Senin\tSelasa\tRabu\n",
            "Jielo\tHasbi\tNaufal\n",
            "Azam\tAida\tNurul\n"
          ]
        }
      ]
    },
    {
      "cell_type": "markdown",
      "source": [
        "#Paramater Fungsi Print"
      ],
      "metadata": {
        "id": "yokiCDC07IEj"
      }
    },
    {
      "cell_type": "code",
      "source": [
        "nama_siswa_1 = \"Jielo\"\n",
        "nama_siswa_2 = \"Aida\"\n",
        "nama_siswa_3 = \"Dani\"\n",
        "nama_siswa_4 = \"Nurul\"\n",
        "\n",
        "print(nama_siswa_4, end=\"/\")\n",
        "print(nama_siswa_2, end=\"/\")\n",
        "print(nama_siswa_1, end=\"/\")\n",
        "print(nama_siswa_3)"
      ],
      "metadata": {
        "colab": {
          "base_uri": "https://localhost:8080/"
        },
        "id": "NKHv-I-L04ly",
        "outputId": "5ad05279-60d2-4c8e-eea8-bf3e5b5a25e0"
      },
      "execution_count": null,
      "outputs": [
        {
          "output_type": "stream",
          "name": "stdout",
          "text": [
            "Nurul/Aida/Jielo/Dani\n"
          ]
        }
      ]
    },
    {
      "cell_type": "code",
      "source": [
        "nama_siswa_5 = \"Hasbi\"\n",
        "nama_siswa_6 = \"Habibi\"\n",
        "nama_siswa_7 = \"Rendra\"\n",
        "nama_siswa_8 = \"Naufal\"\n",
        "\n",
        "print(nama_siswa_5, nama_siswa_8, nama_siswa_7, nama_siswa_6, nama_siswa_8, sep=\"*\")"
      ],
      "metadata": {
        "colab": {
          "base_uri": "https://localhost:8080/"
        },
        "id": "pjzDHibd4QyA",
        "outputId": "8e37f663-8ca0-4147-e862-fe98fb008625"
      },
      "execution_count": null,
      "outputs": [
        {
          "output_type": "stream",
          "name": "stdout",
          "text": [
            "Hasbi*Naufal*Rendra*Habibi*Naufal\n"
          ]
        }
      ]
    }
  ]
}